{
 "cells": [
  {
   "cell_type": "code",
   "execution_count": 5,
   "id": "7f15e237",
   "metadata": {},
   "outputs": [
    {
     "ename": "IndentationError",
     "evalue": "expected an indented block (3259534215.py, line 3)",
     "output_type": "error",
     "traceback": [
      "\u001b[0;36m  Input \u001b[0;32mIn [5]\u001b[0;36m\u001b[0m\n\u001b[0;31m    print(\"smaller\")\u001b[0m\n\u001b[0m    ^\u001b[0m\n\u001b[0;31mIndentationError\u001b[0m\u001b[0;31m:\u001b[0m expected an indented block\n"
     ]
    }
   ],
   "source": [
    "x = 12\n",
    "if x < 5:\n",
    "print(\"smaller\")\n",
    "else:\n",
    "    print(\"bigger\")\n",
    "print(\"all done\")"
   ]
  },
  {
   "cell_type": "code",
   "execution_count": 3,
   "id": "46a5bd83",
   "metadata": {},
   "outputs": [
    {
     "data": {
      "text/plain": [
       "6"
      ]
     },
     "execution_count": 3,
     "metadata": {},
     "output_type": "execute_result"
    }
   ],
   "source": [
    "line1,line2,line3,line4,line5,line6=1,2,3,4,5,6\n",
    "line1\n",
    "try:\n",
    "     line2\n",
    "     line3\n",
    "     line4\n",
    "except:\n",
    "     line5\n",
    "line6"
   ]
  },
  {
   "cell_type": "code",
   "execution_count": 22,
   "id": "2b8e2e0a",
   "metadata": {},
   "outputs": [
    {
     "name": "stdout",
     "output_type": "stream",
     "text": [
      "Enter file name: \n"
     ]
    }
   ],
   "source": [
    "import sqlite3\n",
    "import xml.etree.ElementTree as ET\n",
    "\n",
    "conn = sqlite3.connect('track2.sqlite')\n",
    "cur = conn.cursor()\n",
    "\n",
    "cur.executescript('''\n",
    "DROP TABLE IF EXISTS Artist;\n",
    "DROP TABLE IF EXISTS Album;\n",
    "DROP TABLE IF EXISTS Genre;\n",
    "DROP TABLE IF EXISTS Track;\n",
    "\n",
    "CREATE TABLE Artist (\n",
    "    id  INTEGER NOT NULL PRIMARY KEY AUTOINCREMENT UNIQUE,\n",
    "    name    TEXT UNIQUE\n",
    ");\n",
    "\n",
    "CREATE TABLE Genre (\n",
    "    id  INTEGER NOT NULL PRIMARY KEY AUTOINCREMENT UNIQUE,\n",
    "    name    TEXT UNIQUE\n",
    ");\n",
    "\n",
    "CREATE TABLE Album (\n",
    "    id  INTEGER NOT NULL PRIMARY KEY AUTOINCREMENT UNIQUE,\n",
    "    artist_id  INTEGER,\n",
    "    title   TEXT UNIQUE\n",
    ");\n",
    "\n",
    "CREATE TABLE Track (\n",
    "    id  INTEGER NOT NULL PRIMARY KEY \n",
    "        AUTOINCREMENT UNIQUE,\n",
    "    title TEXT  UNIQUE,\n",
    "    album_id  INTEGER,\n",
    "    genre_id  INTEGER,\n",
    "    len INTEGER, rating INTEGER, count INTEGER\n",
    ");\n",
    "''')\n",
    "\n",
    "fname = input('Enter file name: ')\n",
    "if (len(fname) < 1):\n",
    "    fname = 'Library.xml'\n",
    "\n",
    "def lookup(d,key):\n",
    "    f=False\n",
    "    for ch in d:\n",
    "        if f : return ch.text\n",
    "        if ch.tag == 'key' and ch.text == key :\n",
    "            f = True\n",
    "    return None\n",
    "st=ET.parse(fname)\n",
    "al_st = st.findall('dict/dict/dict')\n",
    "for aa in al_st:\n",
    "    if( lookup(aa, 'Track ID') is None) : continue\n",
    "    \n",
    "    name = lookup(aa,'Name')\n",
    "    artist = lookup(aa,'Artist')\n",
    "    album = lookup(aa,'Album')\n",
    "    genre = lookup(aa,'Genre')\n",
    "    count = lookup(aa,'Play Count')\n",
    "    rating = lookup(aa,'Rating')\n",
    "    length = lookup(aa,'Total Time')\n",
    "    \n",
    "    if name is None or artist is None or album is None or genre is None: continue\n",
    "#     print(name,artist,album,count,rating,length)\n",
    "    \n",
    "    cur.execute('''INSERT OR IGNORE INTO Artist (name) VALUES(?)''', (artist, ))\n",
    "    cur.execute('SELECT id FROM Artist WHERE name = ?', (artist, ))\n",
    "    artist_id = cur.fetchone()[0]\n",
    "    \n",
    "    cur.execute('''INSERT OR IGNORE INTO Genre (name) VALUES(?)''', (genre, ))\n",
    "    cur.execute('SELECT id FROM Genre WHERE name = ?', (genre, ))\n",
    "    genre_id = cur.fetchone()[0]\n",
    "    \n",
    "    cur.execute('''INSERT OR IGNORE INTO Album (title,artist_id) VALUES(?,?)''',\n",
    "                ( album, artist_id ))\n",
    "    cur.execute('SELECT id FROM Album WHERE title = ?', (album, ))\n",
    "    album_id = cur.fetchone()[0]\n",
    "    \n",
    "    cur.execute('''INSERT OR REPLACE INTO Track\n",
    "        (title,album_id,genre_id,len,rating,count)\n",
    "        VALUES (?,?,?,?,?,?)''',\n",
    "        (name,album_id,genre_id,length,rating,count))\n",
    "    conn.commit()\n",
    "\n",
    "\n",
    "\n"
   ]
  },
  {
   "cell_type": "code",
   "execution_count": 6,
   "id": "6a38a1cd",
   "metadata": {},
   "outputs": [
    {
     "name": "stdout",
     "output_type": "stream",
     "text": [
      "Enter file name: mbox.txt\n",
      "iupui.edu 536\n",
      "umich.edu 491\n",
      "indiana.edu 178\n",
      "caret.cam.ac.uk 157\n",
      "vt.edu 110\n",
      "uct.ac.za 96\n",
      "media.berkeley.edu 56\n",
      "ufp.pt 28\n",
      "gmail.com 25\n",
      "et.gatech.edu 17\n"
     ]
    }
   ],
   "source": [
    "#sql 2주차 2차과제\n",
    "import sqlite3\n",
    "\n",
    "conn = sqlite3.connect('emaildb.sqlite')\n",
    "cur = conn.cursor()\n",
    "\n",
    "cur.execute('DROP TABLE IF EXISTS Counts')\n",
    "\n",
    "cur.execute('''\n",
    "CREATE TABLE Counts (org TEXT, count INTEGER)''')\n",
    "\n",
    "fname = input('Enter file name: ')\n",
    "if (len(fname) < 1): fname = 'mbox-short.txt'\n",
    "fh = open(fname)\n",
    "for line in fh:\n",
    "    if not line.startswith('From: '): continue\n",
    "    pieces = line.split()\n",
    "    email = pieces[1]\n",
    "    org = pieces[1].split('@')[1]\n",
    "    cur.execute('SELECT count FROM Counts WHERE org = ? ', (org,))\n",
    "    row = cur.fetchone()\n",
    "    if row is None:\n",
    "        cur.execute('''INSERT INTO Counts (org, count)\n",
    "                VALUES (?, 1)''', (org,))\n",
    "    else:\n",
    "        cur.execute('UPDATE Counts SET count = count + 1 WHERE org = ?',\n",
    "                    (org,))\n",
    "    conn.commit()\n",
    "\n",
    "# https://www.sqlite.org/lang_select.html\n",
    "sqlstr = 'SELECT org, count FROM Counts ORDER BY count DESC LIMIT 10'\n",
    "\n",
    "for row in cur.execute(sqlstr):\n",
    "    print(str(row[0]), row[1])\n",
    "\n",
    "cur.close()"
   ]
  },
  {
   "cell_type": "code",
   "execution_count": 71,
   "id": "6ead0966",
   "metadata": {},
   "outputs": [
    {
     "name": "stdout",
     "output_type": "stream",
     "text": [
      "Enter location: University of Evora\n",
      "Retrieving http://py4e-data.dr-chuck.net/json?address=University+of+Evora&key=42\n",
      "Retrieved 1962 characters\n",
      "ChIJrdL7ed3kGQ0RGyzGrF-vMWo\n"
     ]
    }
   ],
   "source": [
    "#6주자 과제 두번째\n",
    "import urllib.request, urllib.parse, urllib.error\n",
    "import json\n",
    "import ssl\n",
    "\n",
    "api_key = False\n",
    "# If you have a Google Places API key, enter it here\n",
    "# api_key = 'AIzaSy___IDByT70'\n",
    "# https://developers.google.com/maps/documentation/geocoding/intro\n",
    "\n",
    "if api_key is False:\n",
    "    api_key = 42\n",
    "    serviceurl = 'http://py4e-data.dr-chuck.net/json?'\n",
    "else :\n",
    "    serviceurl = 'https://maps.googleapis.com/maps/api/geocode/json?'\n",
    "\n",
    "# Ignore SSL certificate errors\n",
    "ctx = ssl.create_default_context()\n",
    "ctx.check_hostname = False\n",
    "ctx.verify_mode = ssl.CERT_NONE\n",
    "\n",
    "address = input('Enter location: ')\n",
    "parms = dict()\n",
    "parms['address'] = address\n",
    "if api_key is not False: parms['key'] = api_key\n",
    "url = serviceurl + urllib.parse.urlencode(parms)\n",
    "\n",
    "print('Retrieving', url)\n",
    "uh = urllib.request.urlopen(url, context=ctx)\n",
    "data = uh.read().decode()\n",
    "print('Retrieved', len(data), 'characters')\n",
    "\n",
    "try:\n",
    "    js = json.loads(data)\n",
    "except:\n",
    "    js = None\n",
    "lat = js['results'][0]['geometry']['location']['lat']\n",
    "lng = js['results'][0]['geometry']['location']['lng']\n",
    "location = js['results'][0]['formatted_address']\n",
    "print(js['results'][0]['place_id'])"
   ]
  },
  {
   "cell_type": "code",
   "execution_count": 62,
   "id": "1496f9fb",
   "metadata": {},
   "outputs": [
    {
     "name": "stdout",
     "output_type": "stream",
     "text": [
      "Enter location: http://py4e-data.dr-chuck.net/comments_1571388.json\n",
      "Retrieved 2752 characters\n",
      "Count: 50\n",
      "Sum: 2419\n"
     ]
    }
   ],
   "source": [
    "#과제 완성\n",
    "import json\n",
    "import urllib.request, urllib.parse, urllib.error\n",
    "import requests\n",
    "address = input('Enter location: ')\n",
    "info = json.loads(requests.get(address).text)\n",
    "info2 = requests.get(address).json()\n",
    "a=0\n",
    "cnt=0\n",
    "for item in info2['comments']:\n",
    "    a+=int(item['count'])\n",
    "    cnt+=1\n",
    "print('Retrieved', len(requests.get(address).text), 'characters')\n",
    "print(\"Count:\",cnt)\n",
    "print(\"Sum:\",a)\n"
   ]
  },
  {
   "cell_type": "code",
   "execution_count": 33,
   "id": "6d87a885",
   "metadata": {},
   "outputs": [
    {
     "name": "stdout",
     "output_type": "stream",
     "text": [
      "Enter location: http://py4e-data.dr-chuck.net/comments_42.xml\n"
     ]
    },
    {
     "ename": "TypeError",
     "evalue": "a bytes-like object is required, not 'HTTPResponse'",
     "output_type": "error",
     "traceback": [
      "\u001b[0;31m---------------------------------------------------------------------------\u001b[0m",
      "\u001b[0;31mTypeError\u001b[0m                                 Traceback (most recent call last)",
      "Input \u001b[0;32mIn [33]\u001b[0m, in \u001b[0;36m<cell line: 10>\u001b[0;34m()\u001b[0m\n\u001b[1;32m      7\u001b[0m address \u001b[38;5;241m=\u001b[39m \u001b[38;5;28minput\u001b[39m(\u001b[38;5;124m'\u001b[39m\u001b[38;5;124mEnter location: \u001b[39m\u001b[38;5;124m'\u001b[39m)\n\u001b[1;32m      8\u001b[0m uh \u001b[38;5;241m=\u001b[39m urllib\u001b[38;5;241m.\u001b[39mrequest\u001b[38;5;241m.\u001b[39murlopen(address, context\u001b[38;5;241m=\u001b[39mctx)\n\u001b[0;32m---> 10\u001b[0m root \u001b[38;5;241m=\u001b[39m \u001b[43mET\u001b[49m\u001b[38;5;241;43m.\u001b[39;49m\u001b[43mfromstring\u001b[49m\u001b[43m(\u001b[49m\u001b[43muh\u001b[49m\u001b[43m)\u001b[49m\n\u001b[1;32m     11\u001b[0m ls\u001b[38;5;241m=\u001b[39mroot\u001b[38;5;241m.\u001b[39mfindall(\u001b[38;5;124m'\u001b[39m\u001b[38;5;124m.//count\u001b[39m\u001b[38;5;124m'\u001b[39m)\n\u001b[1;32m     12\u001b[0m \u001b[38;5;28mlen\u001b[39m(ls)\n",
      "File \u001b[0;32m~/opt/anaconda3/lib/python3.9/xml/etree/ElementTree.py:1349\u001b[0m, in \u001b[0;36mXML\u001b[0;34m(text, parser)\u001b[0m\n\u001b[1;32m   1347\u001b[0m \u001b[38;5;28;01mif\u001b[39;00m \u001b[38;5;129;01mnot\u001b[39;00m parser:\n\u001b[1;32m   1348\u001b[0m     parser \u001b[38;5;241m=\u001b[39m XMLParser(target\u001b[38;5;241m=\u001b[39mTreeBuilder())\n\u001b[0;32m-> 1349\u001b[0m \u001b[43mparser\u001b[49m\u001b[38;5;241;43m.\u001b[39;49m\u001b[43mfeed\u001b[49m\u001b[43m(\u001b[49m\u001b[43mtext\u001b[49m\u001b[43m)\u001b[49m\n\u001b[1;32m   1350\u001b[0m \u001b[38;5;28;01mreturn\u001b[39;00m parser\u001b[38;5;241m.\u001b[39mclose()\n",
      "\u001b[0;31mTypeError\u001b[0m: a bytes-like object is required, not 'HTTPResponse'"
     ]
    }
   ],
   "source": [
    "import urllib.request, urllib.parse, urllib.error\n",
    "import xml.etree.ElementTree as ET\n",
    "import requests\n",
    "from bs4 import BeautifulSoup\n",
    "import ssl\n",
    "\n",
    "address = input('Enter location: ')\n",
    "uh = urllib.request.urlopen(address, context=ctx)\n",
    "\n",
    "root = ET.fromstring(uh)\n",
    "ls=root.findall('.//count')\n",
    "len(ls)\n",
    "# html = urllib.request.urlopen(address, context=ctx).read()\n",
    "# stuf = ET.fromstring(html)\n",
    "# print(root)\n",
    "# html = urllib.request.urlopen(address, context=ctx).read()\n",
    "# soup = BeautifulSoup(html, 'html.parser')\n",
    "# tags = soup('count')\n",
    "# for tag in tags:\n",
    "#     ta=ET.fromstring(tag)\n",
    "#     print(ta)\n",
    "# parms = dict()\n",
    "# parms['address'] = address\n",
    "# if api_key is not False: parms['key'] = api_key\n",
    "# url = serviceurl + urllib.parse.urlencode(parms)\n",
    "# uh = urllib.request.urlopen(url, context=ctx)\n",
    "# data = uh.read()\n",
    "# print('Retrieved', len(data), 'characters')\n",
    "# print(data.decode())\n",
    "# print(1)\n",
    "# tree = ET.fromstring(data)\n",
    "\n",
    "# print(tree)\n",
    "# results = tree.findall('count')\n",
    "# print(results)\n",
    "# lat = results[0].find('geometry').find('location').find('lat').text\n",
    "# lng = results[0].find('geometry').find('location').find('lng').text\n",
    "# location = results[0].find('formatted_address').text\n",
    "\n",
    "# print('lat', lat, 'lng', lng)\n",
    "# print(location)"
   ]
  },
  {
   "cell_type": "code",
   "execution_count": 89,
   "id": "3d6aac07",
   "metadata": {
    "scrolled": false
   },
   "outputs": [
    {
     "name": "stdout",
     "output_type": "stream",
     "text": [
      "Enter location: http://py4e-data.dr-chuck.net/comments_1571387.xml\n",
      "Retrieved 4235 characters\n",
      "count: 50\n",
      "count: 2468\n"
     ]
    }
   ],
   "source": [
    "import urllib.request, urllib.parse, urllib.error\n",
    "import xml.etree.ElementTree as ET\n",
    "import ssl\n",
    "\n",
    "api_key = False\n",
    "# If you have a Google Places API key, enter it here\n",
    "# api_key = 'AIzaSy___IDByT70'\n",
    "# https://developers.google.com/maps/documentation/geocoding/intro\n",
    "\n",
    "if api_key is False:\n",
    "    api_key = 42\n",
    "    serviceurl = 'http://py4e-data.dr-chuck.net/xml?'\n",
    "else :\n",
    "    serviceurl = 'https://maps.googleapis.com/maps/api/geocode/xml?'\n",
    "\n",
    "# Ignore SSL certificate errors\n",
    "ctx = ssl.create_default_context()\n",
    "ctx.check_hostname = False\n",
    "ctx.verify_mode = ssl.CERT_NONE\n",
    "\n",
    "address = input('Enter location: ')\n",
    "uh = urllib.request.urlopen(address, context=ctx)\n",
    "data = uh.read()\n",
    "print('Retrieved', len(data), 'characters')\n",
    "tree = ET.fromstring(data)\n",
    "ls=tree.findall('comments/comment')\n",
    "a=0\n",
    "for l in ls:\n",
    "    a+=int(l.find('count').text)\n",
    "print(\"count:\",len(ls))\n",
    "print(\"count:\",a)\n"
   ]
  },
  {
   "cell_type": "code",
   "execution_count": 1,
   "id": "4c08e4e9",
   "metadata": {},
   "outputs": [
    {
     "name": "stdout",
     "output_type": "stream",
     "text": [
      "Enter location: http://py4e-data.dr-chuck.net/comments_42.xml\n",
      "Retrieving http://py4e-data.dr-chuck.net/xml?address=http%3A%2F%2Fpy4e-data.dr-chuck.net%2Fcomments_42.xml&key=42\n",
      "Retrieved 36 characters\n",
      "{ \"address\": \"fail\", \"answer\" : 42 }\n"
     ]
    },
    {
     "ename": "ParseError",
     "evalue": "not well-formed (invalid token): line 1, column 0 (<string>)",
     "output_type": "error",
     "traceback": [
      "Traceback \u001b[0;36m(most recent call last)\u001b[0m:\n",
      "  File \u001b[1;32m~/opt/anaconda3/lib/python3.9/site-packages/IPython/core/interactiveshell.py:3369\u001b[0m in \u001b[1;35mrun_code\u001b[0m\n    exec(code_obj, self.user_global_ns, self.user_ns)\n",
      "  Input \u001b[1;32mIn [1]\u001b[0m in \u001b[1;35m<cell line: 22>\u001b[0m\n    tree = ET.fromstring(data)\n",
      "\u001b[0;36m  File \u001b[0;32m~/opt/anaconda3/lib/python3.9/xml/etree/ElementTree.py:1349\u001b[0;36m in \u001b[0;35mXML\u001b[0;36m\u001b[0m\n\u001b[0;31m    parser.feed(text)\u001b[0m\n",
      "\u001b[0;36m  File \u001b[0;32m<string>\u001b[0;36m\u001b[0m\n\u001b[0;31mParseError\u001b[0m\u001b[0;31m:\u001b[0m not well-formed (invalid token): line 1, column 0\n"
     ]
    }
   ],
   "source": [
    "#원본\n",
    "import urllib.request, urllib.parse, urllib.error\n",
    "import xml.etree.ElementTree as ET\n",
    "import ssl\n",
    "\n",
    "api_key = False\n",
    "# If you have a Google Places API key, enter it here\n",
    "# api_key = 'AIzaSy___IDByT70'\n",
    "# https://developers.google.com/maps/documentation/geocoding/intro\n",
    "\n",
    "if api_key is False:\n",
    "    api_key = 42\n",
    "    serviceurl = 'http://py4e-data.dr-chuck.net/xml?'\n",
    "else :\n",
    "    serviceurl = 'https://maps.googleapis.com/maps/api/geocode/xml?'\n",
    "\n",
    "# Ignore SSL certificate errors\n",
    "ctx = ssl.create_default_context()\n",
    "ctx.check_hostname = False\n",
    "ctx.verify_mode = ssl.CERT_NONE\n",
    "\n",
    "while True:\n",
    "    address = input('Enter location: ')\n",
    "    if len(address) < 1: break\n",
    "\n",
    "    parms = dict()\n",
    "    parms['address'] = address\n",
    "    if api_key is not False: \n",
    "        parms['key'] = api_key\n",
    "    url = serviceurl + urllib.parse.urlencode(parms)\n",
    "    print('Retrieving', url)\n",
    "    uh = urllib.request.urlopen(url, context=ctx)\n",
    "\n",
    "    data = uh.read()\n",
    "    print('Retrieved', len(data), 'characters')\n",
    "    print(data.decode())\n",
    "    tree = ET.fromstring(data)\n",
    "    results = tree.findall('result')\n",
    "    lat = results[0].find('geometry').find('location').find('lat').text\n",
    "    lng = results[0].find('geometry').find('location').find('lng').text\n",
    "    location = results[0].find('formatted_address').text\n",
    "\n",
    "    print('lat', lat, 'lng', lng)\n",
    "    print(location)"
   ]
  },
  {
   "cell_type": "code",
   "execution_count": 33,
   "id": "ae915e16",
   "metadata": {},
   "outputs": [
    {
     "ename": "AttributeError",
     "evalue": "'str' object has no attribute 'get_text'",
     "output_type": "error",
     "traceback": [
      "\u001b[0;31m---------------------------------------------------------------------------\u001b[0m",
      "\u001b[0;31mAttributeError\u001b[0m                            Traceback (most recent call last)",
      "Input \u001b[0;32mIn [33]\u001b[0m, in \u001b[0;36m<cell line: 3>\u001b[0;34m()\u001b[0m\n\u001b[1;32m      1\u001b[0m \u001b[38;5;28;01mimport\u001b[39;00m \u001b[38;5;21;01mre\u001b[39;00m\n\u001b[1;32m      2\u001b[0m a\u001b[38;5;241m=\u001b[39m\u001b[38;5;124m'\u001b[39m\u001b[38;5;124mhttp://py4e-data.dr-chuck.net/known_by_Aniqa.html\u001b[39m\u001b[38;5;124m'\u001b[39m\n\u001b[0;32m----> 3\u001b[0m \u001b[43ma\u001b[49m\u001b[38;5;241;43m.\u001b[39;49m\u001b[43mget_text\u001b[49m\n",
      "\u001b[0;31mAttributeError\u001b[0m: 'str' object has no attribute 'get_text'"
     ]
    }
   ],
   "source": [
    "import re\n",
    "a='http://py4e-data.dr-chuck.net/known_by_Aniqa.html'\n",
    "a.get_text"
   ]
  },
  {
   "cell_type": "code",
   "execution_count": 74,
   "id": "0eb2eacd",
   "metadata": {},
   "outputs": [
    {
     "name": "stdout",
     "output_type": "stream",
     "text": [
      "Enter - http://py4e-data.dr-chuck.net/known_by_Ameera.html\n",
      "Ameera\n",
      "Butali\n",
      "Avah\n",
      "Keiva\n",
      "Tjay\n",
      "Angel\n",
      "Lochlann\n",
      "Faria\n"
     ]
    }
   ],
   "source": [
    "#4주차 과제\n",
    "import urllib.request, urllib.parse, urllib.error\n",
    "from bs4 import BeautifulSoup\n",
    "import ssl\n",
    "\n",
    "# Ignore SSL certificate errors\n",
    "ctx = ssl.create_default_context()\n",
    "ctx.check_hostname = False\n",
    "ctx.verify_mode = ssl.CERT_NONE\n",
    "\n",
    "url = input('Enter - ')\n",
    "html = urllib.request.urlopen(url, context=ctx).read()\n",
    "soup = BeautifulSoup(html, 'html.parser')\n",
    "\n",
    "# Retrieve all of the anchor tags\n",
    "tags = soup('a')\n",
    "numli=list()\n",
    "numli.append(str(url))\n",
    "repeat=7\n",
    "position =18\n",
    "for a in range(repeat):\n",
    "    i=0\n",
    "    for tag in tags:\n",
    "        i+=1\n",
    "        if i==position:\n",
    "            url=tag.get('href', None)\n",
    "            numli.append(url)\n",
    "    html = urllib.request.urlopen(url, context=ctx).read()\n",
    "    soup = BeautifulSoup(html, 'html.parser')\n",
    "    # Retrieve all of the anchor tags\n",
    "    tags = soup('a')\n",
    "for i in range(len(numli)):\n",
    "    print(str(numli[i]).split(\".\")[2].split(\"_\")[2])\n"
   ]
  },
  {
   "cell_type": "code",
   "execution_count": 67,
   "id": "27c7874a",
   "metadata": {},
   "outputs": [
    {
     "data": {
      "text/plain": [
       "'http://py4e-data.dr-chuck.net/known_by_Geordie.html'"
      ]
     },
     "execution_count": 67,
     "metadata": {},
     "output_type": "execute_result"
    }
   ],
   "source": [
    "http://py4e-data.dr-chuck.net/known_by_Ameera.html\n",
    "http://py4e-data.dr-chuck.net/known_by_Fikret.html"
   ]
  },
  {
   "cell_type": "code",
   "execution_count": 24,
   "id": "85d4d269",
   "metadata": {},
   "outputs": [
    {
     "name": "stdout",
     "output_type": "stream",
     "text": [
      "Enter - http://py4e-data.dr-chuck.net/comments_1571385.html\n",
      "2655\n"
     ]
    }
   ],
   "source": [
    "#4주차 과제\n",
    "# To run this, download the BeautifulSoup zip file\n",
    "# http://www.py4e.com/code3/bs4.zip\n",
    "# and unzip it in the same directory as this file\n",
    "\n",
    "from urllib.request import urlopen\n",
    "from bs4 import BeautifulSoup\n",
    "import ssl\n",
    "import re\n",
    "\n",
    "# Ignore SSL certificate errors\n",
    "ctx = ssl.create_default_context()\n",
    "ctx.check_hostname = False\n",
    "ctx.verify_mode = ssl.CERT_NONE\n",
    "\n",
    "url = input('Enter - ')\n",
    "html = urlopen(url, context=ctx).read()\n",
    "soup = BeautifulSoup(html, \"html.parser\")\n",
    "\n",
    "# Retrieve all of the anchor tags\n",
    "tags = soup('span')\n",
    "numli=list()\n",
    "for tag in tags:\n",
    "    a=int(tag.get_text())\n",
    "    numli.append(a)\n",
    "print(sum(numli))"
   ]
  },
  {
   "cell_type": "code",
   "execution_count": 79,
   "id": "f42dc2c7",
   "metadata": {},
   "outputs": [
    {
     "data": {
      "text/plain": [
       "'X-DSPAM-Confidence:    0.8475'"
      ]
     },
     "execution_count": 79,
     "metadata": {},
     "output_type": "execute_result"
    }
   ],
   "source": [
    "text = \"X-DSPAM-Confidence:    0.8475\"\n",
    "text"
   ]
  },
  {
   "cell_type": "code",
   "execution_count": 71,
   "id": "d80792f5",
   "metadata": {},
   "outputs": [
    {
     "name": "stdout",
     "output_type": "stream",
     "text": [
      "Enter a number: 7\n",
      "Enter a number: 2\n",
      "Enter a number: bob\n",
      "Invalid input\n",
      "Enter a number: 10\n",
      "Enter a number: 2\n",
      "Enter a number: done\n",
      "Maximum 10\n",
      "Mininum 2\n"
     ]
    }
   ],
   "source": [
    "largest = None\n",
    "smallest = None\n",
    "while True:\n",
    "    num = input(\"Enter a number: \")\n",
    "    if largest is None:\n",
    "        largest = int(num)\n",
    "    if smallest is None:\n",
    "        smallest = int(num)\n",
    "    if num == \"done\":\n",
    "        break\n",
    "    try:\n",
    "        num=int(num)\n",
    "        if num > largest:\n",
    "            largest = num\n",
    "        elif num < smallest:\n",
    "            smallest = num\n",
    "    except:\n",
    "        print(\"Invalid input\")\n",
    "        continue\n",
    "print(\"Maximum is\", largest)\n",
    "print(\"Minimum is\", smallest)"
   ]
  }
 ],
 "metadata": {
  "kernelspec": {
   "display_name": "Python 3 (ipykernel)",
   "language": "python",
   "name": "python3"
  },
  "language_info": {
   "codemirror_mode": {
    "name": "ipython",
    "version": 3
   },
   "file_extension": ".py",
   "mimetype": "text/x-python",
   "name": "python",
   "nbconvert_exporter": "python",
   "pygments_lexer": "ipython3",
   "version": "3.9.12"
  }
 },
 "nbformat": 4,
 "nbformat_minor": 5
}
